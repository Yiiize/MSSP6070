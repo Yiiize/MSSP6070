{
  "nbformat": 4,
  "nbformat_minor": 0,
  "metadata": {
    "colab": {
      "provenance": []
    },
    "kernelspec": {
      "name": "python3",
      "display_name": "Python 3"
    },
    "language_info": {
      "name": "python"
    }
  },
  "cells": [
    {
      "cell_type": "code",
      "metadata": {
        "colab": {
          "base_uri": "https://localhost:8080/"
        },
        "id": "d75cc9a2",
        "outputId": "a49d8cb4-1189-482d-9d18-b618c7d06d45"
      },
      "source": [
        "# 2a.\n",
        "spam = [2, 4, 6, 8, 10]\n",
        "\n",
        "# 2b.\n",
        "spam[2] = 'hello'\n",
        "print(spam)"
      ],
      "execution_count": 3,
      "outputs": [
        {
          "output_type": "stream",
          "name": "stdout",
          "text": [
            "[2, 4, 'hello', 8, 10]\n"
          ]
        }
      ]
    },
    {
      "cell_type": "code",
      "metadata": {
        "colab": {
          "base_uri": "https://localhost:8080/"
        },
        "id": "bf4b7a52",
        "outputId": "8b20c146-a9e6-466a-c78a-b5ebeb835ce2"
      },
      "source": [
        "# 3a.\n",
        "letters = ['a', 'b', 'c', 'd']\n",
        "\n",
        "# 3b. What does letters[int(int('3'*2)//11)] evaluate to? Explain why in a comment.\n",
        "# '3'*2 results in the string '33'. int('33') is 33. 33 // 11 is 3. letters[3] is 'd'.\n",
        "print(letters[int(int('3'*2)//11)])\n",
        "\n",
        "# 3c. What does letters[-1] evaluate to? Explain why in a comment.\n",
        "# letters[-1] evaluates to the last element in the list.\n",
        "print(letters[-1])\n",
        "\n",
        "# 3d. What does letters[:2] evaluate to? Explain why in a comment.\n",
        "# letters[:2] evaluates to a slice of the list from the beginning up to (but not including) index 2.\n",
        "print(letters[:2])"
      ],
      "execution_count": 4,
      "outputs": [
        {
          "output_type": "stream",
          "name": "stdout",
          "text": [
            "d\n",
            "d\n",
            "['a', 'b']\n"
          ]
        }
      ]
    },
    {
      "cell_type": "code",
      "metadata": {
        "colab": {
          "base_uri": "https://localhost:8080/"
        },
        "id": "3b10a85c",
        "outputId": "97e1b72d-2a4f-422b-8dc2-27962fa4f155"
      },
      "source": [
        "# 4.\n",
        "my_list = [1, 2, 3, 4]\n",
        "my_tuple = (5, 6, 7, 8)\n",
        "\n",
        "# Convert a list to a tuple\n",
        "tuple_from_list = tuple(my_list)\n",
        "print(f\"List converted to tuple: {tuple_from_list}\")\n",
        "\n",
        "# Convert a tuple to a list\n",
        "list_from_tuple = list(my_tuple)\n",
        "print(f\"Tuple converted to list: {list_from_tuple}\")"
      ],
      "execution_count": 7,
      "outputs": [
        {
          "output_type": "stream",
          "name": "stdout",
          "text": [
            "List converted to tuple: (1, 2, 3, 4)\n",
            "Tuple converted to list: [5, 6, 7, 8]\n"
          ]
        }
      ]
    },
    {
      "cell_type": "code",
      "metadata": {
        "colab": {
          "base_uri": "https://localhost:8080/"
        },
        "id": "9658f90f",
        "outputId": "f19a2414-4019-4d10-bc75-4163760a03c3"
      },
      "source": [
        "# 5. Practice program (see Sweigart, Chapter Four, Comma Code Practice Project:\n",
        "# spam = ['apples', 'bananas', 'tofu', 'cats']\n",
        "\n",
        "def comma_code(input_list):\n",
        "  if not input_list:\n",
        "    return \"\"\n",
        "  elif len(input_list) == 1:\n",
        "    return str(input_list[0])\n",
        "  else:\n",
        "    return \", \".join(map(str, input_list[:-1])) + \", and \" + str(input_list[-1])\n",
        "\n",
        "spam = ['apples', 'bananas', 'tofu', 'cats']\n",
        "result = comma_code(spam)\n",
        "print(result)\n",
        "\n",
        "# Test with another list\n",
        "another_list = ['one', 'two']\n",
        "result_another = comma_code(another_list)\n",
        "print(result_another)\n",
        "\n",
        "empty_list = []\n",
        "result_empty = comma_code(empty_list)\n",
        "print(result_empty)\n",
        "\n",
        "single_item_list = ['only one']\n",
        "result_single = comma_code(single_item_list)\n",
        "print(result_single)"
      ],
      "execution_count": 8,
      "outputs": [
        {
          "output_type": "stream",
          "name": "stdout",
          "text": [
            "apples, bananas, tofu, and cats\n",
            "one, and two\n",
            "\n",
            "only one\n"
          ]
        }
      ]
    }
  ]
}